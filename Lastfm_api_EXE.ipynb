{
 "cells": [
  {
   "cell_type": "code",
   "execution_count": null,
   "id": "bde3d3b6",
   "metadata": {},
   "outputs": [],
   "source": [
    "###########################################################INICIO##########################################################"
   ]
  },
  {
   "cell_type": "code",
   "execution_count": null,
   "id": "80301712",
   "metadata": {
    "scrolled": false
   },
   "outputs": [],
   "source": [
    "from LAST_FM import intro, menu, accion, InfoArtista, last_fm, data_management\n",
    "\n",
    "top_artistas = data_management()\n",
    "\n",
    "last_fm()"
   ]
  },
  {
   "cell_type": "code",
   "execution_count": null,
   "id": "44bfe610",
   "metadata": {},
   "outputs": [],
   "source": [
    "###########################################################FINAL###########################################################"
   ]
  }
 ],
 "metadata": {
  "kernelspec": {
   "display_name": "Python 3 (ipykernel)",
   "language": "python",
   "name": "python3"
  },
  "language_info": {
   "codemirror_mode": {
    "name": "ipython",
    "version": 3
   },
   "file_extension": ".py",
   "mimetype": "text/x-python",
   "name": "python",
   "nbconvert_exporter": "python",
   "pygments_lexer": "ipython3",
   "version": "3.10.9"
  }
 },
 "nbformat": 4,
 "nbformat_minor": 5
}
